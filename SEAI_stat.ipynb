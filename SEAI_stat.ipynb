{
 "cells": [
  {
   "cell_type": "code",
   "execution_count": 63,
   "id": "3f6a7f21",
   "metadata": {},
   "outputs": [],
   "source": [
    "import numpy as np\n",
    "import matplotlib.pyplot as plt\n",
    "import pandas as pd\n",
    "import scipy.stats as stats\n",
    "import statsmodels.api as sm\n",
    "import statsmodels.formula.api as smf\n",
    "import statsmodels.stats.power as smp\n",
    "import statsmodels.stats.proportion as smprop\n"
   ]
  },
  {
   "cell_type": "code",
   "execution_count": 64,
   "id": "056ed8df",
   "metadata": {},
   "outputs": [
    {
     "data": {
      "text/html": [
       "<div>\n",
       "<style scoped>\n",
       "    .dataframe tbody tr th:only-of-type {\n",
       "        vertical-align: middle;\n",
       "    }\n",
       "\n",
       "    .dataframe tbody tr th {\n",
       "        vertical-align: top;\n",
       "    }\n",
       "\n",
       "    .dataframe thead th {\n",
       "        text-align: right;\n",
       "    }\n",
       "</style>\n",
       "<table border=\"1\" class=\"dataframe\">\n",
       "  <thead>\n",
       "    <tr style=\"text-align: right;\">\n",
       "      <th></th>\n",
       "      <th>category</th>\n",
       "      <th>subcategory</th>\n",
       "      <th>right-right</th>\n",
       "      <th>wrong-wrong</th>\n",
       "      <th>right-wrong</th>\n",
       "      <th>wrong-right</th>\n",
       "    </tr>\n",
       "  </thead>\n",
       "  <tbody>\n",
       "    <tr>\n",
       "      <th>0</th>\n",
       "      <td>Short_question</td>\n",
       "      <td>trivia</td>\n",
       "      <td>25</td>\n",
       "      <td>0</td>\n",
       "      <td>0</td>\n",
       "      <td>0</td>\n",
       "    </tr>\n",
       "    <tr>\n",
       "      <th>1</th>\n",
       "      <td>Computational</td>\n",
       "      <td>mathmatics</td>\n",
       "      <td>5</td>\n",
       "      <td>5</td>\n",
       "      <td>15</td>\n",
       "      <td>0</td>\n",
       "    </tr>\n",
       "    <tr>\n",
       "      <th>2</th>\n",
       "      <td>Computational</td>\n",
       "      <td>statistics</td>\n",
       "      <td>17</td>\n",
       "      <td>3</td>\n",
       "      <td>4</td>\n",
       "      <td>1</td>\n",
       "    </tr>\n",
       "    <tr>\n",
       "      <th>3</th>\n",
       "      <td>Computational</td>\n",
       "      <td>social_science</td>\n",
       "      <td>9</td>\n",
       "      <td>1</td>\n",
       "      <td>3</td>\n",
       "      <td>0</td>\n",
       "    </tr>\n",
       "    <tr>\n",
       "      <th>4</th>\n",
       "      <td>Computational</td>\n",
       "      <td>machine_Learning</td>\n",
       "      <td>8</td>\n",
       "      <td>6</td>\n",
       "      <td>10</td>\n",
       "      <td>1</td>\n",
       "    </tr>\n",
       "  </tbody>\n",
       "</table>\n",
       "</div>"
      ],
      "text/plain": [
       "         category       subcategory  right-right  wrong-wrong  right-wrong  \\\n",
       "0  Short_question            trivia           25            0            0   \n",
       "1   Computational        mathmatics            5            5           15   \n",
       "2   Computational        statistics           17            3            4   \n",
       "3   Computational    social_science            9            1            3   \n",
       "4   Computational  machine_Learning            8            6           10   \n",
       "\n",
       "   wrong-right  \n",
       "0            0  \n",
       "1            0  \n",
       "2            1  \n",
       "3            0  \n",
       "4            1  "
      ]
     },
     "execution_count": 64,
     "metadata": {},
     "output_type": "execute_result"
    }
   ],
   "source": [
    "# Path to file \n",
    "file_path = 'data.csv'\n",
    "\n",
    "# Load data\n",
    "D = pd.read_csv(file_path,sep=',')\n",
    "D"
   ]
  },
  {
   "cell_type": "code",
   "execution_count": 65,
   "id": "b50a4141",
   "metadata": {},
   "outputs": [
    {
     "data": {
      "text/plain": [
       "array([[25, 20, 21, 12, 18],\n",
       "       [ 0,  5,  4,  1,  7]], dtype=int64)"
      ]
     },
     "execution_count": 65,
     "metadata": {},
     "output_type": "execute_result"
    }
   ],
   "source": [
    "\n",
    "observed_normal = np.array([D['right-right'] + D['right-wrong'], D['wrong-wrong']+ D['wrong-right']])\n",
    "observed_nudge = np.array([D['right-right'] +D['wrong-right'], D['wrong-wrong']+  D['right-wrong']])\n",
    "observed_normal"
   ]
  },
  {
   "cell_type": "code",
   "execution_count": 66,
   "id": "e0be392d",
   "metadata": {},
   "outputs": [
    {
     "data": {
      "text/plain": [
       "(8.758352187028658,\n",
       " 0.06743164414537377,\n",
       " 4,\n",
       " array([[21.23893805, 21.23893805, 21.23893805, 11.04424779, 21.23893805],\n",
       "        [ 3.76106195,  3.76106195,  3.76106195,  1.95575221,  3.76106195]]))"
      ]
     },
     "execution_count": 66,
     "metadata": {},
     "output_type": "execute_result"
    }
   ],
   "source": [
    "chi2, p, dof, expected = stats.chi2_contingency(observed_normal)\n",
    "chi2, p, dof, expected"
   ]
  },
  {
   "cell_type": "code",
   "execution_count": 67,
   "id": "96223ff8",
   "metadata": {},
   "outputs": [
    {
     "data": {
      "text/plain": [
       "(40.67843078906909,\n",
       " 3.1330652164357776e-08,\n",
       " 4,\n",
       " array([[14.60176991, 14.60176991, 14.60176991,  7.59292035, 14.60176991],\n",
       "        [10.39823009, 10.39823009, 10.39823009,  5.40707965, 10.39823009]]))"
      ]
     },
     "execution_count": 67,
     "metadata": {},
     "output_type": "execute_result"
    }
   ],
   "source": [
    "chi2n, pn, dofn, expectedn = stats.chi2_contingency(observed_nudge)\n",
    "chi2n, pn, dofn, expectedn"
   ]
  }
 ],
 "metadata": {
  "kernelspec": {
   "display_name": "base",
   "language": "python",
   "name": "python3"
  },
  "language_info": {
   "codemirror_mode": {
    "name": "ipython",
    "version": 3
   },
   "file_extension": ".py",
   "mimetype": "text/x-python",
   "name": "python",
   "nbconvert_exporter": "python",
   "pygments_lexer": "ipython3",
   "version": "3.11.9"
  }
 },
 "nbformat": 4,
 "nbformat_minor": 5
}
