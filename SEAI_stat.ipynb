{
 "cells": [
  {
   "cell_type": "code",
   "execution_count": 3,
   "id": "3f6a7f21",
   "metadata": {},
   "outputs": [],
   "source": [
    "import numpy as np\n",
    "import matplotlib.pyplot as plt\n",
    "import pandas as pd\n",
    "import scipy.stats as stats\n",
    "import statsmodels.api as sm\n",
    "import statsmodels.formula.api as smf\n",
    "import statsmodels.stats.power as smp\n",
    "import statsmodels.stats.proportion as smprop\n"
   ]
  },
  {
   "cell_type": "code",
   "execution_count": 4,
   "id": "056ed8df",
   "metadata": {},
   "outputs": [
    {
     "data": {
      "text/html": [
       "<div>\n",
       "<style scoped>\n",
       "    .dataframe tbody tr th:only-of-type {\n",
       "        vertical-align: middle;\n",
       "    }\n",
       "\n",
       "    .dataframe tbody tr th {\n",
       "        vertical-align: top;\n",
       "    }\n",
       "\n",
       "    .dataframe thead th {\n",
       "        text-align: right;\n",
       "    }\n",
       "</style>\n",
       "<table border=\"1\" class=\"dataframe\">\n",
       "  <thead>\n",
       "    <tr style=\"text-align: right;\">\n",
       "      <th></th>\n",
       "      <th>category</th>\n",
       "      <th>subcategory</th>\n",
       "      <th>right-right</th>\n",
       "      <th>wrong-wrong</th>\n",
       "      <th>right-wrong</th>\n",
       "      <th>wrong-right</th>\n",
       "    </tr>\n",
       "  </thead>\n",
       "  <tbody>\n",
       "    <tr>\n",
       "      <th>0</th>\n",
       "      <td>Short_question</td>\n",
       "      <td>trivia</td>\n",
       "      <td>25</td>\n",
       "      <td>0</td>\n",
       "      <td>0</td>\n",
       "      <td>0</td>\n",
       "    </tr>\n",
       "    <tr>\n",
       "      <th>1</th>\n",
       "      <td>Computational</td>\n",
       "      <td>mathmatics</td>\n",
       "      <td>5</td>\n",
       "      <td>5</td>\n",
       "      <td>15</td>\n",
       "      <td>0</td>\n",
       "    </tr>\n",
       "    <tr>\n",
       "      <th>2</th>\n",
       "      <td>Computational</td>\n",
       "      <td>statistics</td>\n",
       "      <td>17</td>\n",
       "      <td>3</td>\n",
       "      <td>4</td>\n",
       "      <td>1</td>\n",
       "    </tr>\n",
       "    <tr>\n",
       "      <th>3</th>\n",
       "      <td>Computational</td>\n",
       "      <td>machine_Learning</td>\n",
       "      <td>8</td>\n",
       "      <td>6</td>\n",
       "      <td>10</td>\n",
       "      <td>1</td>\n",
       "    </tr>\n",
       "    <tr>\n",
       "      <th>4</th>\n",
       "      <td>Computational</td>\n",
       "      <td>Social_science</td>\n",
       "      <td>14</td>\n",
       "      <td>3</td>\n",
       "      <td>8</td>\n",
       "      <td>0</td>\n",
       "    </tr>\n",
       "  </tbody>\n",
       "</table>\n",
       "</div>"
      ],
      "text/plain": [
       "         category       subcategory  right-right  wrong-wrong  right-wrong  \\\n",
       "0  Short_question            trivia           25            0            0   \n",
       "1   Computational        mathmatics            5            5           15   \n",
       "2   Computational        statistics           17            3            4   \n",
       "3   Computational  machine_Learning            8            6           10   \n",
       "4   Computational    Social_science           14            3            8   \n",
       "\n",
       "   wrong-right  \n",
       "0            0  \n",
       "1            0  \n",
       "2            1  \n",
       "3            1  \n",
       "4            0  "
      ]
     },
     "execution_count": 4,
     "metadata": {},
     "output_type": "execute_result"
    }
   ],
   "source": [
    "# Path to file \n",
    "file_path = 'data.csv'\n",
    "\n",
    "# Load data\n",
    "D = pd.read_csv(file_path,sep=',')\n",
    "D"
   ]
  },
  {
   "cell_type": "code",
   "execution_count": 5,
   "id": "b50a4141",
   "metadata": {},
   "outputs": [
    {
     "data": {
      "text/plain": [
       "array([[ 5, 17,  8, 14],\n",
       "       [15,  4, 10,  8]], dtype=int64)"
      ]
     },
     "execution_count": 5,
     "metadata": {},
     "output_type": "execute_result"
    }
   ],
   "source": [
    "d_test = D[1:]\n",
    "\n",
    "observed = np.array([d_test['right-right'], d_test['right-wrong']])\n",
    "\n",
    "observed"
   ]
  },
  {
   "cell_type": "code",
   "execution_count": 6,
   "id": "e0be392d",
   "metadata": {},
   "outputs": [
    {
     "data": {
      "text/plain": [
       "(14.408877516832066,\n",
       " 0.0023982711915381807,\n",
       " 3,\n",
       " array([[10.86419753, 11.40740741,  9.77777778, 11.95061728],\n",
       "        [ 9.13580247,  9.59259259,  8.22222222, 10.04938272]]))"
      ]
     },
     "execution_count": 6,
     "metadata": {},
     "output_type": "execute_result"
    }
   ],
   "source": [
    "chi2, p, dof, expected = stats.chi2_contingency(observed)\n",
    "chi2, p, dof, expected"
   ]
  },
  {
   "cell_type": "markdown",
   "id": "76a4faef",
   "metadata": {},
   "source": [
    "### Pairwise"
   ]
  },
  {
   "cell_type": "code",
   "execution_count": 14,
   "id": "55c613e5",
   "metadata": {},
   "outputs": [
    {
     "data": {
      "text/plain": [
       "array([[ 5, 17],\n",
       "       [15,  4]], dtype=int64)"
      ]
     },
     "execution_count": 14,
     "metadata": {},
     "output_type": "execute_result"
    }
   ],
   "source": [
    "observed[:,[0,1]]"
   ]
  },
  {
   "cell_type": "code",
   "execution_count": 33,
   "id": "4f9f4065",
   "metadata": {},
   "outputs": [
    {
     "name": "stdout",
     "output_type": "stream",
     "text": [
      "alpha bonferoni:  0.008333333333333333\n",
      "____________________________\n",
      "Difference between Mathematics and Statistics\n",
      "reject, pval: 0.0005061684314111601\n",
      "____________________________\n",
      "Difference between Mathematics and Machine\n",
      "accept, pval: 0.3071237453884839\n",
      "____________________________\n",
      "Difference between Mathematics and Social Science\n",
      "accept, pval: 0.01570376909914065\n",
      "____________________________\n",
      "Difference between Statistics and Machine\n",
      "accept, pval: 0.023669943580955817\n",
      "____________________________\n",
      "Difference between Statistics and Social Science\n",
      "accept, pval: 0.3101545631324417\n",
      "____________________________\n",
      "Difference between Machine and Social Science\n",
      "accept, pval: 0.3391251453610597\n"
     ]
    }
   ],
   "source": [
    "m = 4\n",
    "bonf_alpha = 0.05/ ((m* (m-1))/ 2)   # alpha of 5% with M = 3 tests \n",
    "\n",
    "print(\"alpha bonferoni: \", bonf_alpha)\n",
    "subject_dict = {0: \"Mathematics\", 1: \"Statistics\", 2:\"Machine\", 3:\"Social Science\"}\n",
    "for i in range(4):\n",
    "    for j in range(i,4):\n",
    "        if i != j:\n",
    "            #chi2, p, dof, expected = stats.chi2_contingency(observed[:,[i,j]])\n",
    "            statistic, p = stats.fisher_exact(observed[:,[i,j]])\n",
    "            print(\"____________________________\")\n",
    "            print(f\"Difference between {subject_dict[i]} and {subject_dict[j]}\")\n",
    "            #print(expected)\n",
    "            if p < bonf_alpha: \n",
    "                print(f'reject, pval: {p}')\n",
    "            else: \n",
    "                print(f'accept, pval: {p}')\n",
    "# Math : 1, Stat: 2, Machine: 3, Social Science: 4"
   ]
  },
  {
   "cell_type": "code",
   "execution_count": null,
   "id": "e92c8074",
   "metadata": {},
   "outputs": [
    {
     "name": "stdout",
     "output_type": "stream",
     "text": [
      "0.008333333333333333\n",
      "reject, 1 and 2, pval 0.001350901652264132\n",
      "accept, 1 and 3, pval 0.15729920705028533\n",
      "accept, 1 and 4, pval 0.04700388031557925\n",
      "accept, 2 and 3, pval 0.05878172135535886\n",
      "accept, 2 and 4, pval 0.18532630419857943\n",
      "accept, 3 and 4, pval 0.5556897902827945\n"
     ]
    }
   ],
   "source": [
    "\n",
    "m = 4\n",
    "bonf_alpha = 0.05/ ((m* (m-1))/ 2)   # alpha of 5% with M = 3 tests \n",
    "n = 25\n",
    "\n",
    "print(bonf_alpha)\n",
    "\n",
    "n_obs = np.array([n,n])\n",
    "\n",
    "for i in range(m-1):\n",
    "    for k in range(i+1,m):\n",
    "        z_obs, p_val = smprop.proportions_ztest(count =(observed[1,i],observed[1,k]), nobs = n_obs)\n",
    "        if p_val < bonf_alpha: \n",
    "            print(f'reject, {i+1} and {k+1}, pval {p_val}')\n",
    "        else: \n",
    "            print(f'accept, {i+1} and {k+1}, pval {p_val}')\n",
    "\n",
    "# Math : 1, Stat: 2, Machine: 3, Social Science: 4\n"
   ]
  }
 ],
 "metadata": {
  "kernelspec": {
   "display_name": "base",
   "language": "python",
   "name": "python3"
  },
  "language_info": {
   "codemirror_mode": {
    "name": "ipython",
    "version": 3
   },
   "file_extension": ".py",
   "mimetype": "text/x-python",
   "name": "python",
   "nbconvert_exporter": "python",
   "pygments_lexer": "ipython3",
   "version": "3.11.9"
  }
 },
 "nbformat": 4,
 "nbformat_minor": 5
}
