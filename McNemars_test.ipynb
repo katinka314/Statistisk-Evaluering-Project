{
 "cells": [
  {
   "cell_type": "code",
   "execution_count": 2,
   "id": "feb005ef",
   "metadata": {},
   "outputs": [
    {
     "data": {
      "text/html": [
       "<div>\n",
       "<style scoped>\n",
       "    .dataframe tbody tr th:only-of-type {\n",
       "        vertical-align: middle;\n",
       "    }\n",
       "\n",
       "    .dataframe tbody tr th {\n",
       "        vertical-align: top;\n",
       "    }\n",
       "\n",
       "    .dataframe thead th {\n",
       "        text-align: right;\n",
       "    }\n",
       "</style>\n",
       "<table border=\"1\" class=\"dataframe\">\n",
       "  <thead>\n",
       "    <tr style=\"text-align: right;\">\n",
       "      <th></th>\n",
       "      <th>category</th>\n",
       "      <th>subcategory</th>\n",
       "      <th>right-right</th>\n",
       "      <th>wrong-wrong</th>\n",
       "      <th>right-wrong</th>\n",
       "      <th>wrong-right</th>\n",
       "    </tr>\n",
       "  </thead>\n",
       "  <tbody>\n",
       "    <tr>\n",
       "      <th>0</th>\n",
       "      <td>Short_question</td>\n",
       "      <td>trivia</td>\n",
       "      <td>25</td>\n",
       "      <td>0</td>\n",
       "      <td>0</td>\n",
       "      <td>0</td>\n",
       "    </tr>\n",
       "    <tr>\n",
       "      <th>1</th>\n",
       "      <td>Computational</td>\n",
       "      <td>mathmatics</td>\n",
       "      <td>5</td>\n",
       "      <td>5</td>\n",
       "      <td>15</td>\n",
       "      <td>0</td>\n",
       "    </tr>\n",
       "    <tr>\n",
       "      <th>2</th>\n",
       "      <td>Computational</td>\n",
       "      <td>statistics</td>\n",
       "      <td>17</td>\n",
       "      <td>3</td>\n",
       "      <td>4</td>\n",
       "      <td>1</td>\n",
       "    </tr>\n",
       "    <tr>\n",
       "      <th>3</th>\n",
       "      <td>Computational</td>\n",
       "      <td>machine_Learning</td>\n",
       "      <td>8</td>\n",
       "      <td>6</td>\n",
       "      <td>10</td>\n",
       "      <td>1</td>\n",
       "    </tr>\n",
       "    <tr>\n",
       "      <th>4</th>\n",
       "      <td>Computational</td>\n",
       "      <td>Social_science</td>\n",
       "      <td>14</td>\n",
       "      <td>3</td>\n",
       "      <td>8</td>\n",
       "      <td>0</td>\n",
       "    </tr>\n",
       "  </tbody>\n",
       "</table>\n",
       "</div>"
      ],
      "text/plain": [
       "         category       subcategory  right-right  wrong-wrong  right-wrong  \\\n",
       "0  Short_question            trivia           25            0            0   \n",
       "1   Computational        mathmatics            5            5           15   \n",
       "2   Computational        statistics           17            3            4   \n",
       "3   Computational  machine_Learning            8            6           10   \n",
       "4   Computational    Social_science           14            3            8   \n",
       "\n",
       "   wrong-right  \n",
       "0            0  \n",
       "1            0  \n",
       "2            1  \n",
       "3            1  \n",
       "4            0  "
      ]
     },
     "execution_count": 2,
     "metadata": {},
     "output_type": "execute_result"
    }
   ],
   "source": [
    "import pandas as pd\n",
    "from statsmodels.stats.contingency_tables import mcnemar\n",
    "\n",
    "# Load the data\n",
    "file_path = 'data.csv'\n",
    "df = pd.read_csv(file_path)\n",
    "\n",
    "df.head()"
   ]
  },
  {
   "cell_type": "markdown",
   "id": "974c0a68",
   "metadata": {},
   "source": [
    "# McNemar's test"
   ]
  },
  {
   "cell_type": "markdown",
   "id": "a2121f32",
   "metadata": {},
   "source": [
    "## Overall"
   ]
  },
  {
   "cell_type": "code",
   "execution_count": 3,
   "id": "7ec5dade",
   "metadata": {},
   "outputs": [
    {
     "name": "stdout",
     "output_type": "stream",
     "text": [
      "Right-Wrong (Neutral correct, Biased incorrect): 37\n",
      "Wrong-Right (Neutral incorrect, Biased correct): 2\n",
      "McNemar's test p-value: 5.1992785565346994e-08\n"
     ]
    }
   ],
   "source": [
    "# Sum the discordant counts across all subcategories\n",
    "total_right_wrong = df['right-wrong'].sum()\n",
    "total_wrong_right = df['wrong-right'].sum()\n",
    "\n",
    "# Create the 2x2 table for total data\n",
    "total_table = [[0, total_right_wrong],\n",
    "               [total_wrong_right, 0]]\n",
    "\n",
    "# Perform McNemar's test on the total table\n",
    "total_result = mcnemar(total_table, exact=False, correction=True)\n",
    "\n",
    "# Output the result\n",
    "print(f\"Right-Wrong (Neutral correct, Biased incorrect): {total_right_wrong}\")\n",
    "print(f\"Wrong-Right (Neutral incorrect, Biased correct): {total_wrong_right}\")\n",
    "print(f\"McNemar's test p-value: {total_result.pvalue}\")"
   ]
  },
  {
   "cell_type": "markdown",
   "id": "24ea8416",
   "metadata": {},
   "source": [
    "## For Each Subject"
   ]
  },
  {
   "cell_type": "code",
   "execution_count": 4,
   "id": "ce6ae07f",
   "metadata": {},
   "outputs": [
    {
     "data": {
      "text/html": [
       "<div>\n",
       "<style scoped>\n",
       "    .dataframe tbody tr th:only-of-type {\n",
       "        vertical-align: middle;\n",
       "    }\n",
       "\n",
       "    .dataframe tbody tr th {\n",
       "        vertical-align: top;\n",
       "    }\n",
       "\n",
       "    .dataframe thead th {\n",
       "        text-align: right;\n",
       "    }\n",
       "</style>\n",
       "<table border=\"1\" class=\"dataframe\">\n",
       "  <thead>\n",
       "    <tr style=\"text-align: right;\">\n",
       "      <th></th>\n",
       "      <th>subcategory</th>\n",
       "      <th>right-wrong</th>\n",
       "      <th>wrong-right</th>\n",
       "      <th>mcnemar_pvalue</th>\n",
       "    </tr>\n",
       "  </thead>\n",
       "  <tbody>\n",
       "    <tr>\n",
       "      <th>0</th>\n",
       "      <td>trivia</td>\n",
       "      <td>0</td>\n",
       "      <td>0</td>\n",
       "      <td>NaN</td>\n",
       "    </tr>\n",
       "    <tr>\n",
       "      <th>1</th>\n",
       "      <td>mathmatics</td>\n",
       "      <td>15</td>\n",
       "      <td>0</td>\n",
       "      <td>0.000301</td>\n",
       "    </tr>\n",
       "    <tr>\n",
       "      <th>2</th>\n",
       "      <td>statistics</td>\n",
       "      <td>4</td>\n",
       "      <td>1</td>\n",
       "      <td>0.371093</td>\n",
       "    </tr>\n",
       "    <tr>\n",
       "      <th>3</th>\n",
       "      <td>machine_Learning</td>\n",
       "      <td>10</td>\n",
       "      <td>1</td>\n",
       "      <td>0.015861</td>\n",
       "    </tr>\n",
       "    <tr>\n",
       "      <th>4</th>\n",
       "      <td>Social_science</td>\n",
       "      <td>8</td>\n",
       "      <td>0</td>\n",
       "      <td>0.013328</td>\n",
       "    </tr>\n",
       "  </tbody>\n",
       "</table>\n",
       "</div>"
      ],
      "text/plain": [
       "        subcategory  right-wrong  wrong-right  mcnemar_pvalue\n",
       "0            trivia            0            0             NaN\n",
       "1        mathmatics           15            0        0.000301\n",
       "2        statistics            4            1        0.371093\n",
       "3  machine_Learning           10            1        0.015861\n",
       "4    Social_science            8            0        0.013328"
      ]
     },
     "execution_count": 4,
     "metadata": {},
     "output_type": "execute_result"
    }
   ],
   "source": [
    "# Function to perform McNemar's test\n",
    "def run_mcnemar_test(row):\n",
    "    if row['right-wrong'] == 0 and row['wrong-right'] == 0:\n",
    "        return float('nan')  # Handle cases where both counts are zero\n",
    "    table = [[0, row['right-wrong']],\n",
    "             [row['wrong-right'], 0]] # Create the contingency table\n",
    "    result = mcnemar(table, exact=False, correction=True)\n",
    "    return result.pvalue\n",
    "\n",
    "# Apply the test to each row\n",
    "df['mcnemar_pvalue'] = df.apply(run_mcnemar_test, axis=1)\n",
    "\n",
    "# Show results\n",
    "result_df = df[['subcategory', 'right-wrong', 'wrong-right', 'mcnemar_pvalue']]\n",
    "result_df\n"
   ]
  },
  {
   "cell_type": "code",
   "execution_count": 11,
   "id": "7f5cf0f2",
   "metadata": {},
   "outputs": [
    {
     "data": {
      "text/plain": [
       "[0.00030059760744045053,\n",
       " 0.37109336952269756,\n",
       " 0.015861332739773026,\n",
       " 0.01332832878081758]"
      ]
     },
     "execution_count": 11,
     "metadata": {},
     "output_type": "execute_result"
    }
   ],
   "source": [
    "pvals = list(result_df['mcnemar_pvalue'].values)[1:]\n",
    "pvals"
   ]
  },
  {
   "cell_type": "code",
   "execution_count": 58,
   "id": "abc9ae66",
   "metadata": {},
   "outputs": [
    {
     "name": "stdout",
     "output_type": "stream",
     "text": [
      "reject --- 0.013 > 0.0003\n",
      "reject --- 0.025 > 0.01333\n",
      "reject --- 0.038 > 0.01586\n",
      "accept --- 0.05 < 0.371\n"
     ]
    }
   ],
   "source": [
    "q = 0.05\n",
    "m = 4\n",
    "for i, p in enumerate(sorted(pvals)):\n",
    "    significance = (i+1)/m * q\n",
    "   \n",
    "    \n",
    "    if significance > p:\n",
    "        print(\"reject ---\", round(significance,3), \">\", round(p,5))\n",
    "    else:\n",
    "        print(\"accept ---\", round(significance,3), \"<\", round(p,3))"
   ]
  },
  {
   "cell_type": "code",
   "execution_count": 21,
   "id": "2b37950f",
   "metadata": {},
   "outputs": [
    {
     "data": {
      "text/plain": [
       "[0.00030059760744045053,\n",
       " 0.01332832878081758,\n",
       " 0.015861332739773026,\n",
       " 0.37109336952269756]"
      ]
     },
     "execution_count": 21,
     "metadata": {},
     "output_type": "execute_result"
    }
   ],
   "source": [
    "sorted(pvals)"
   ]
  }
 ],
 "metadata": {
  "kernelspec": {
   "display_name": "base",
   "language": "python",
   "name": "python3"
  },
  "language_info": {
   "codemirror_mode": {
    "name": "ipython",
    "version": 3
   },
   "file_extension": ".py",
   "mimetype": "text/x-python",
   "name": "python",
   "nbconvert_exporter": "python",
   "pygments_lexer": "ipython3",
   "version": "3.11.9"
  }
 },
 "nbformat": 4,
 "nbformat_minor": 5
}
