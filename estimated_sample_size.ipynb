{
 "cells": [
  {
   "cell_type": "code",
   "execution_count": null,
   "id": "1ceb54ed",
   "metadata": {},
   "outputs": [],
   "source": [
    "import math\n",
    "\n",
    "# Pilot data for math questions\n",
    "b = 15\n",
    "c = 0\n",
    "N = 25\n",
    "\n",
    "# Step 1: compute chi-square\n",
    "chi2 = (b - c)**2 / (b + c)\n",
    "\n",
    "# Step 2: compute Cohen's w\n",
    "w = math.sqrt(chi2 / N)\n",
    "\n",
    "# Step 3: compute required N\n",
    "Z_alpha = 1.96  # for alpha=0.05\n",
    "Z_beta = 0.84   # for power=0.8\n",
    "required_N = (Z_alpha + Z_beta)**2 / w**2\n",
    "required_N = math.ceil(required_N)\n",
    "\n",
    "# Output\n",
    "print(f\"Cohen's w = {w:.3f}\")\n",
    "print(f\"Required N ≈ {required_N} pairs\")\n",
    "print(f\"Actual N = {N} pairs\")"
   ]
  }
 ],
 "metadata": {
  "language_info": {
   "name": "python"
  }
 },
 "nbformat": 4,
 "nbformat_minor": 5
}
