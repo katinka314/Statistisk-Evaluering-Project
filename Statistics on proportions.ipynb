{
 "cells": [
  {
   "cell_type": "code",
   "execution_count": 15,
   "id": "c314ca19",
   "metadata": {},
   "outputs": [],
   "source": [
    "#Husk at impotere!\n",
    "import numpy as np\n",
    "import matplotlib.pyplot as plt\n",
    "import pandas as pd\n",
    "import scipy.stats as stats\n",
    "import statsmodels.api as sm\n",
    "import statsmodels.formula.api as smf\n",
    "import statsmodels.stats.power as smp\n",
    "import statsmodels.stats.proportion as smprop\n",
    "# evt import math\n"
   ]
  },
  {
   "cell_type": "markdown",
   "id": "f9305441",
   "metadata": {},
   "source": [
    "# Neutral"
   ]
  },
  {
   "cell_type": "code",
   "execution_count": 16,
   "id": "c4f3ec54",
   "metadata": {},
   "outputs": [
    {
     "data": {
      "text/plain": [
       "array([[20,  5],\n",
       "       [21,  4],\n",
       "       [18,  7],\n",
       "       [22,  3]])"
      ]
     },
     "execution_count": 16,
     "metadata": {},
     "output_type": "execute_result"
    }
   ],
   "source": [
    "#Reading the data into Python\n",
    "table_data_neutral = np.array([[20,5],[21,4],[18,7],[22,3]])\n",
    "table_data_neutral"
   ]
  },
  {
   "cell_type": "code",
   "execution_count": 17,
   "id": "3ac189ca",
   "metadata": {},
   "outputs": [
    {
     "name": "stdout",
     "output_type": "stream",
     "text": [
      "        Correct  Incorrect\n",
      "Math2        20          5\n",
      "Stats        21          4\n",
      "ML           18          7\n",
      "Social       22          3\n"
     ]
    }
   ],
   "source": [
    "#Sætter bare kolonne/rækkenavne på tabellen:\n",
    "table_data_neutral = pd.DataFrame(table_data_neutral, index=[\"Math2\", \"Stats\",\"ML\", \"Social\"],\n",
    "columns=[\"Correct\", \"Incorrect\"])\n",
    "print(table_data_neutral)"
   ]
  },
  {
   "cell_type": "code",
   "execution_count": 18,
   "id": "6e0d4739",
   "metadata": {},
   "outputs": [
    {
     "name": "stdout",
     "output_type": "stream",
     "text": [
      "[[20.25  4.75]\n",
      " [20.25  4.75]\n",
      " [20.25  4.75]\n",
      " [20.25  4.75]]\n",
      "\n",
      "chi_2_obs = 2.2742040285899936\n",
      "p_val = 0.5174807351498061\n",
      "df = 3\n"
     ]
    }
   ],
   "source": [
    "# Chi^2 test for testing that the distribution for the two groups are equal\n",
    "chi2, p_val, dof, expected = stats.chi2_contingency(table_data_neutral, correction=False)\n",
    "\n",
    "# Tabel med de forventede værdier, hvis nulhypotesen var sand\n",
    "print(expected)\n",
    "\n",
    "print()\n",
    "# Test Statistic\n",
    "print(\"chi_2_obs =\",chi2)\n",
    "\n",
    "# P value\n",
    "print(\"p_val =\", p_val)\n",
    "\n",
    "# Degrees of freedom\n",
    "print(\"df =\", dof)"
   ]
  },
  {
   "cell_type": "markdown",
   "id": "0d7a76ee",
   "metadata": {},
   "source": [
    "# Biased"
   ]
  },
  {
   "cell_type": "code",
   "execution_count": 19,
   "id": "beed26e5",
   "metadata": {},
   "outputs": [
    {
     "data": {
      "text/plain": [
       "array([[ 5, 20],\n",
       "       [18,  7],\n",
       "       [ 9, 16],\n",
       "       [14, 11]])"
      ]
     },
     "execution_count": 19,
     "metadata": {},
     "output_type": "execute_result"
    }
   ],
   "source": [
    "#Reading the data into Python\n",
    "table_data_biased = np.array([[5,20],[18,7],[9,16],[14,11]])\n",
    "table_data_biased"
   ]
  },
  {
   "cell_type": "code",
   "execution_count": 20,
   "id": "bf185d8c",
   "metadata": {},
   "outputs": [
    {
     "name": "stdout",
     "output_type": "stream",
     "text": [
      "        Correct  Incorrect\n",
      "Math2         5         20\n",
      "Stats        18          7\n",
      "ML            9         16\n",
      "Social       14         11\n"
     ]
    }
   ],
   "source": [
    "#Sætter bare kolonne/rækkenavne på tabellen:\n",
    "table_data_biased = pd.DataFrame(table_data_biased, index=[\"Math2\", \"Stats\",\"ML\", \"Social\"],\n",
    "columns=[\"Correct\", \"Incorrect\"])\n",
    "print(table_data_biased)"
   ]
  },
  {
   "cell_type": "code",
   "execution_count": 21,
   "id": "68a9cc54",
   "metadata": {},
   "outputs": [
    {
     "name": "stdout",
     "output_type": "stream",
     "text": [
      "[[11.5 13.5]\n",
      " [11.5 13.5]\n",
      " [11.5 13.5]\n",
      " [11.5 13.5]]\n",
      "\n",
      "chi_2_obs = 15.619967793880837\n",
      "p_val = 0.0013566584057098873\n",
      "df = 3\n"
     ]
    }
   ],
   "source": [
    "# Chi^2 test for testing that the distribution for the two groups are equal\n",
    "chi2, p_val, dof, expected = stats.chi2_contingency(table_data_biased, correction=False)\n",
    "\n",
    "# Tabel med de forventede værdier, hvis nulhypotesen var sand\n",
    "print(expected)\n",
    "\n",
    "print()\n",
    "# Test Statistic\n",
    "print(\"chi_2_obs =\",chi2)\n",
    "\n",
    "# P value\n",
    "print(\"p_val =\", p_val)\n",
    "\n",
    "# Degrees of freedom\n",
    "print(\"df =\", dof)"
   ]
  },
  {
   "cell_type": "markdown",
   "id": "e971c9f1",
   "metadata": {},
   "source": [
    "## Pairwise comparisons"
   ]
  },
  {
   "cell_type": "code",
   "execution_count": 22,
   "id": "0f3d21c5",
   "metadata": {},
   "outputs": [
    {
     "data": {
      "text/plain": [
       "0.008333333333333333"
      ]
     },
     "execution_count": 22,
     "metadata": {},
     "output_type": "execute_result"
    }
   ],
   "source": [
    "alpha = 0.05\n",
    "n = 4\n",
    "M = n*(n-1)/2\n",
    "alpha_bonf = alpha/M\n",
    "alpha_bonf"
   ]
  },
  {
   "cell_type": "code",
   "execution_count": 33,
   "id": "032d0677",
   "metadata": {},
   "outputs": [],
   "source": [
    "def pairwise_compare(x1,n1, x2,n2):\n",
    "    count = np.array([x1,x2])\n",
    "    nobs = np.array([n1,n2])\n",
    "    z_obs, p_val = smprop.proportions_ztest(count=count, nobs=nobs)\n",
    "\n",
    "    # Kan også indsætte data direkte i funktionen:\n",
    "    # z_obs,p_value = smprop.proportions_ztest(count = [x1, x2], nobs = [n1, n2], value=nulhypotese, prop_var=0)\n",
    "    # print(z_obs, p_value)\n",
    "    \n",
    "    print(f\"{z_obs=}\")\n",
    "\n",
    "    print(f\"{p_val=}\")\n",
    "\n",
    "    if p_val < alpha_bonf:\n",
    "        print(\"Idet pval < alpha, kan vi forkaste nulhypotesen\")\n",
    "    else:\n",
    "        print(\"Idet pval > alpha, kan vi acceptere nulhypotesen\")"
   ]
  },
  {
   "cell_type": "code",
   "execution_count": null,
   "id": "72aa3a5d",
   "metadata": {},
   "outputs": [
    {
     "name": "stdout",
     "output_type": "stream",
     "text": [
      "z_obs=3.688778299954577\n",
      "p_val=0.00022533345908647202\n",
      "Idet pval < alpha, kan vi forkaste nulhypotesen\n"
     ]
    }
   ],
   "source": [
    "# Mat\n",
    "xmat = 20\n",
    "nmat = 25\n",
    "\n",
    "# Stat\n",
    "xstat = 7\n",
    "nstat = 25\n",
    "\n",
    "# ML\n",
    "xML = 16\n",
    "nML = 25\n",
    "\n",
    "#Social\n",
    "xsoc = 14\n",
    "nsoc = 25\n",
    "\n"
   ]
  },
  {
   "cell_type": "markdown",
   "id": "57c2fd1a",
   "metadata": {},
   "source": [
    "Mat vs stat"
   ]
  },
  {
   "cell_type": "code",
   "execution_count": 39,
   "id": "69be1f9b",
   "metadata": {},
   "outputs": [
    {
     "name": "stdout",
     "output_type": "stream",
     "text": [
      "z_obs=3.688778299954577\n",
      "p_val=0.00022533345908647202\n",
      "Idet pval < alpha, kan vi forkaste nulhypotesen\n"
     ]
    }
   ],
   "source": [
    "pairwise_compare(xmat,nmat,xstat,nstat)"
   ]
  },
  {
   "cell_type": "markdown",
   "id": "a7fe1007",
   "metadata": {},
   "source": [
    "Mat vs. ML"
   ]
  },
  {
   "cell_type": "code",
   "execution_count": 35,
   "id": "f581cd3d",
   "metadata": {},
   "outputs": [
    {
     "name": "stdout",
     "output_type": "stream",
     "text": [
      "z_obs=1.2598815766974243\n",
      "p_val=0.20771208572755662\n",
      "Idet pval > alpha, kan vi acceptere nulhypotesen\n"
     ]
    }
   ],
   "source": [
    "# Testing that the probabilities (error rates) for the two groups are equal\n",
    "pairwise_compare(xmat,nmat,xML,nML)"
   ]
  },
  {
   "cell_type": "markdown",
   "id": "fc976db0",
   "metadata": {},
   "source": [
    "Stat vs. ML:"
   ]
  },
  {
   "cell_type": "code",
   "execution_count": 36,
   "id": "8ee9208e",
   "metadata": {},
   "outputs": [
    {
     "name": "stdout",
     "output_type": "stream",
     "text": [
      "z_obs=-2.5537695922762453\n",
      "p_val=0.010656374721291446\n",
      "Idet pval > alpha, kan vi acceptere nulhypotesen\n"
     ]
    }
   ],
   "source": [
    "# Testing that the probabilities (error rates) for the two groups are equal\n",
    "pairwise_compare(xstat,nstat,xML,nML)"
   ]
  },
  {
   "cell_type": "code",
   "execution_count": 40,
   "id": "a494b66f",
   "metadata": {},
   "outputs": [
    {
     "name": "stdout",
     "output_type": "stream",
     "text": [
      "z_obs=-2.005738892714385\n",
      "p_val=0.044884113345636724\n",
      "Idet pval > alpha, kan vi acceptere nulhypotesen\n"
     ]
    }
   ],
   "source": [
    "pairwise_compare(xstat,nstat,xsoc,nsoc)"
   ]
  },
  {
   "cell_type": "code",
   "execution_count": 41,
   "id": "e3a43437",
   "metadata": {},
   "outputs": [
    {
     "name": "stdout",
     "output_type": "stream",
     "text": [
      "z_obs=0.5773502691896255\n",
      "p_val=0.5637028616507732\n",
      "Idet pval > alpha, kan vi acceptere nulhypotesen\n"
     ]
    }
   ],
   "source": [
    "pairwise_compare(xML,nML,xsoc,nsoc)"
   ]
  },
  {
   "cell_type": "code",
   "execution_count": 42,
   "id": "08859999",
   "metadata": {},
   "outputs": [
    {
     "name": "stdout",
     "output_type": "stream",
     "text": [
      "z_obs=1.8190171877724974\n",
      "p_val=0.06890880788626995\n",
      "Idet pval > alpha, kan vi acceptere nulhypotesen\n"
     ]
    }
   ],
   "source": [
    "pairwise_compare(xmat,nmat,xsoc,nsoc)"
   ]
  }
 ],
 "metadata": {
  "kernelspec": {
   "display_name": "base",
   "language": "python",
   "name": "python3"
  },
  "language_info": {
   "codemirror_mode": {
    "name": "ipython",
    "version": 3
   },
   "file_extension": ".py",
   "mimetype": "text/x-python",
   "name": "python",
   "nbconvert_exporter": "python",
   "pygments_lexer": "ipython3",
   "version": "3.11.9"
  }
 },
 "nbformat": 4,
 "nbformat_minor": 5
}
