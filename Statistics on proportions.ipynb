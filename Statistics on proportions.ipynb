{
 "cells": [
  {
   "cell_type": "code",
   "execution_count": 1,
   "id": "c314ca19",
   "metadata": {},
   "outputs": [],
   "source": [
    "#Husk at impotere!\n",
    "import numpy as np\n",
    "import matplotlib.pyplot as plt\n",
    "import pandas as pd\n",
    "import scipy.stats as stats\n",
    "import statsmodels.api as sm\n",
    "import statsmodels.formula.api as smf\n",
    "import statsmodels.stats.power as smp\n",
    "import statsmodels.stats.proportion as smprop\n",
    "# evt import math\n"
   ]
  },
  {
   "cell_type": "markdown",
   "id": "f9305441",
   "metadata": {},
   "source": [
    "# Neutral"
   ]
  },
  {
   "cell_type": "code",
   "execution_count": 27,
   "id": "c4f3ec54",
   "metadata": {},
   "outputs": [
    {
     "data": {
      "text/plain": [
       "array([[20,  5],\n",
       "       [21,  4],\n",
       "       [18,  7]])"
      ]
     },
     "execution_count": 27,
     "metadata": {},
     "output_type": "execute_result"
    }
   ],
   "source": [
    "#Reading the data into Python\n",
    "table_data_neutral = np.array([[20,5],[21,4],[18,7]])\n",
    "table_data_neutral"
   ]
  },
  {
   "cell_type": "code",
   "execution_count": 28,
   "id": "3ac189ca",
   "metadata": {},
   "outputs": [
    {
     "name": "stdout",
     "output_type": "stream",
     "text": [
      "       Correct  Incorrect\n",
      "Math2       20          5\n",
      "Stats       21          4\n",
      "ML          18          7\n"
     ]
    }
   ],
   "source": [
    "#Sætter bare kolonne/rækkenavne på tabellen:\n",
    "table_data_neutral = pd.DataFrame(table_data_neutral, index=[\"Math2\", \"Stats\",\"ML\"],\n",
    "columns=[\"Correct\", \"Incorrect\"])\n",
    "print(table_data_neutral)"
   ]
  },
  {
   "cell_type": "code",
   "execution_count": 29,
   "id": "6e0d4739",
   "metadata": {},
   "outputs": [
    {
     "name": "stdout",
     "output_type": "stream",
     "text": [
      "[[19.66666667  5.33333333]\n",
      " [19.66666667  5.33333333]\n",
      " [19.66666667  5.33333333]]\n",
      "\n",
      "chi_2_obs = 1.1122881355932204\n",
      "p_val = 0.5734158591652831\n",
      "df = 2\n"
     ]
    }
   ],
   "source": [
    "# Chi^2 test for testing that the distribution for the two groups are equal\n",
    "chi2, p_val, dof, expected = stats.chi2_contingency(table_data_neutral, correction=False)\n",
    "\n",
    "# Tabel med de forventede værdier, hvis nulhypotesen var sand\n",
    "print(expected)\n",
    "\n",
    "print()\n",
    "# Test Statistic\n",
    "print(\"chi_2_obs =\",chi2)\n",
    "\n",
    "# P value\n",
    "print(\"p_val =\", p_val)\n",
    "\n",
    "# Degrees of freedom\n",
    "print(\"df =\", dof)"
   ]
  },
  {
   "cell_type": "markdown",
   "id": "0d7a76ee",
   "metadata": {},
   "source": [
    "# Biased"
   ]
  },
  {
   "cell_type": "code",
   "execution_count": 32,
   "id": "beed26e5",
   "metadata": {},
   "outputs": [
    {
     "data": {
      "text/plain": [
       "array([[ 5, 20],\n",
       "       [18,  7],\n",
       "       [ 9, 16]])"
      ]
     },
     "execution_count": 32,
     "metadata": {},
     "output_type": "execute_result"
    }
   ],
   "source": [
    "#Reading the data into Python\n",
    "table_data_biased = np.array([[5,20],[18,7],[9,16]])\n",
    "table_data_biased"
   ]
  },
  {
   "cell_type": "code",
   "execution_count": 33,
   "id": "bf185d8c",
   "metadata": {},
   "outputs": [
    {
     "name": "stdout",
     "output_type": "stream",
     "text": [
      "       Correct  Incorrect\n",
      "Math2        5         20\n",
      "Stats       18          7\n",
      "ML           9         16\n"
     ]
    }
   ],
   "source": [
    "#Sætter bare kolonne/rækkenavne på tabellen:\n",
    "table_data_biased = pd.DataFrame(table_data_biased, index=[\"Math2\", \"Stats\",\"ML\"],\n",
    "columns=[\"Correct\", \"Incorrect\"])\n",
    "print(table_data_biased)"
   ]
  },
  {
   "cell_type": "code",
   "execution_count": 34,
   "id": "68a9cc54",
   "metadata": {},
   "outputs": [
    {
     "name": "stdout",
     "output_type": "stream",
     "text": [
      "[[10.66666667 14.33333333]\n",
      " [10.66666667 14.33333333]\n",
      " [10.66666667 14.33333333]]\n",
      "\n",
      "chi_2_obs = 14.498546511627907\n",
      "p_val = 0.000710690691537986\n",
      "df = 2\n"
     ]
    }
   ],
   "source": [
    "# Chi^2 test for testing that the distribution for the two groups are equal\n",
    "chi2, p_val, dof, expected = stats.chi2_contingency(table_data_biased, correction=False)\n",
    "\n",
    "# Tabel med de forventede værdier, hvis nulhypotesen var sand\n",
    "print(expected)\n",
    "\n",
    "print()\n",
    "# Test Statistic\n",
    "print(\"chi_2_obs =\",chi2)\n",
    "\n",
    "# P value\n",
    "print(\"p_val =\", p_val)\n",
    "\n",
    "# Degrees of freedom\n",
    "print(\"df =\", dof)"
   ]
  },
  {
   "cell_type": "markdown",
   "id": "e971c9f1",
   "metadata": {},
   "source": [
    "## Pairwise comparisons"
   ]
  },
  {
   "cell_type": "code",
   "execution_count": 9,
   "id": "0f3d21c5",
   "metadata": {},
   "outputs": [
    {
     "data": {
      "text/plain": [
       "0.016666666666666666"
      ]
     },
     "execution_count": 9,
     "metadata": {},
     "output_type": "execute_result"
    }
   ],
   "source": [
    "alpha_bonf = 0.05/3\n",
    "alpha_bonf"
   ]
  },
  {
   "cell_type": "markdown",
   "id": "57c2fd1a",
   "metadata": {},
   "source": [
    "Mat vs stat"
   ]
  },
  {
   "cell_type": "code",
   "execution_count": 17,
   "id": "8811aaec",
   "metadata": {},
   "outputs": [
    {
     "name": "stdout",
     "output_type": "stream",
     "text": [
      "z_obs=3.688778299954577\n",
      "p_val=0.00022533345908647202\n",
      "Idet pval < alpha, kan vi forkaste nulhypotesen\n"
     ]
    }
   ],
   "source": [
    "# Testing that the probabilities (error rates) for the two groups are equal\n",
    "# Mat\n",
    "x1 = 20\n",
    "n1 = 25\n",
    "\n",
    "# Stat\n",
    "x2 = 7\n",
    "n2 = 25\n",
    "\n",
    "count = np.array([x1,x2])\n",
    "nobs = np.array([n1,n2])\n",
    "z_obs, p_val = smprop.proportions_ztest(count=count, nobs=nobs)\n",
    "\n",
    "# Kan også indsætte data direkte i funktionen:\n",
    "# z_obs,p_value = smprop.proportions_ztest(count = [x1, x2], nobs = [n1, n2], value=nulhypotese, prop_var=0)\n",
    "# print(z_obs, p_value)\n",
    "\n",
    "print(f\"{z_obs=}\")\n",
    "\n",
    "print(f\"{p_val=}\")\n",
    "\n",
    "if p_val < alpha_bonf:\n",
    "    print(\"Idet pval < alpha, kan vi forkaste nulhypotesen\")\n",
    "else:\n",
    "    print(\"Idet pval > alpha, kan vi acceptere nulhypotesen\")"
   ]
  },
  {
   "cell_type": "markdown",
   "id": "a7fe1007",
   "metadata": {},
   "source": [
    "Mat vs. ML"
   ]
  },
  {
   "cell_type": "code",
   "execution_count": null,
   "id": "f581cd3d",
   "metadata": {},
   "outputs": [
    {
     "name": "stdout",
     "output_type": "stream",
     "text": [
      "z_obs=1.2598815766974243\n",
      "p_val=0.20771208572755662\n",
      "Idet pval > alpha, kan vi acceptere nulhypotesen\n"
     ]
    }
   ],
   "source": [
    "# Testing that the probabilities (error rates) for the two groups are equal\n",
    "# Mat\n",
    "x1 = 20\n",
    "n1 = 25\n",
    "\n",
    "# ML\n",
    "x2 = 16\n",
    "n2 = 25\n",
    "\n",
    "count = np.array([x1,x2])\n",
    "nobs = np.array([n1,n2])\n",
    "z_obs, p_val = smprop.proportions_ztest(count=count, nobs=nobs)\n",
    "\n",
    "# Kan også indsætte data direkte i funktionen:\n",
    "# z_obs,p_value = smprop.proportions_ztest(count = [x1, x2], nobs = [n1, n2], value=nulhypotese, prop_var=0)\n",
    "# print(z_obs, p_value)\n",
    "\n",
    "print(f\"{z_obs=}\")\n",
    "\n",
    "print(f\"{p_val=}\")\n",
    "\n",
    "if p_val < alpha_bonf:\n",
    "    print(\"Idet pval < alpha, kan vi forkaste nulhypotesen\")\n",
    "else:\n",
    "    print(\"Idet pval > alpha, kan vi acceptere nulhypotesen\")"
   ]
  },
  {
   "cell_type": "markdown",
   "id": "fc976db0",
   "metadata": {},
   "source": [
    "Stat vs. ML:"
   ]
  },
  {
   "cell_type": "code",
   "execution_count": 18,
   "id": "8ee9208e",
   "metadata": {},
   "outputs": [
    {
     "name": "stdout",
     "output_type": "stream",
     "text": [
      "z_obs=-2.5537695922762453\n",
      "p_val=0.010656374721291446\n",
      "Idet pval < alpha, kan vi forkaste nulhypotesen\n"
     ]
    }
   ],
   "source": [
    "# Testing that the probabilities (error rates) for the two groups are equal\n",
    "# Stat\n",
    "x1 = 7\n",
    "n1 = 25\n",
    "\n",
    "# ML\n",
    "x2 = 16\n",
    "n2 = 25\n",
    "\n",
    "count = np.array([x1,x2])\n",
    "nobs = np.array([n1,n2])\n",
    "z_obs, p_val = smprop.proportions_ztest(count=count, nobs=nobs)\n",
    "\n",
    "# Kan også indsætte data direkte i funktionen:\n",
    "# z_obs,p_value = smprop.proportions_ztest(count = [x1, x2], nobs = [n1, n2], value=nulhypotese, prop_var=0)\n",
    "# print(z_obs, p_value)\n",
    "\n",
    "print(f\"{z_obs=}\")\n",
    "\n",
    "print(f\"{p_val=}\")\n",
    "\n",
    "if p_val < alpha_bonf:\n",
    "    print(\"Idet pval < alpha, kan vi forkaste nulhypotesen\")\n",
    "else:\n",
    "    print(\"Idet pval > alpha, kan vi acceptere nulhypotesen\")"
   ]
  }
 ],
 "metadata": {
  "kernelspec": {
   "display_name": "base",
   "language": "python",
   "name": "python3"
  },
  "language_info": {
   "codemirror_mode": {
    "name": "ipython",
    "version": 3
   },
   "file_extension": ".py",
   "mimetype": "text/x-python",
   "name": "python",
   "nbconvert_exporter": "python",
   "pygments_lexer": "ipython3",
   "version": "3.11.9"
  }
 },
 "nbformat": 4,
 "nbformat_minor": 5
}
