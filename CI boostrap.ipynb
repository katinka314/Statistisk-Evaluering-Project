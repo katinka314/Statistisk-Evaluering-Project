{
 "cells": [
  {
   "cell_type": "markdown",
   "id": "6eac7313",
   "metadata": {},
   "source": [
    "# Calculating errorrates"
   ]
  },
  {
   "cell_type": "code",
   "execution_count": null,
   "id": "c475b030",
   "metadata": {},
   "outputs": [],
   "source": [
    "data = pd.read_csv('data.csv')\n",
    "\n",
    "data[\"neutral errorrate\"] = data.apply(lambda row: 1-(row[\"right-right\"] + row[\"right-wrong\"])/25, axis = 1)\n",
    "data[\"biased errorrate\"] = data.apply(lambda row: 1-(row[\"wrong-right\"] + row[\"right-right\"] )/25, axis = 1)\n",
    "errorrates = data[[\"subcategory\", \"neutral errorrate\", \"biased errorrate\"]]\n",
    "errorrates"
   ]
  },
  {
   "cell_type": "code",
   "execution_count": null,
   "id": "6b4429f4",
   "metadata": {},
   "outputs": [],
   "source": [
    "total_neutral_errorrate = (0.2 + 0.16 + 0.28 + 0.12)/4\n",
    "total_biased_errorrate = (0.8 + 0.28 + 0.64 + 0.44)/4\n",
    "\n",
    "total_neutral_errorrate, total_biased_errorrate"
   ]
  },
  {
   "cell_type": "markdown",
   "id": "d31b0bd4",
   "metadata": {},
   "source": [
    "# Bootstrap CI for overall error rate (neutral prompts)"
   ]
  },
  {
   "cell_type": "code",
   "execution_count": null,
   "id": "964be0fa",
   "metadata": {},
   "outputs": [],
   "source": [
    "import numpy as np\n",
    "import pandas as pd"
   ]
  },
  {
   "cell_type": "code",
   "execution_count": 7,
   "id": "873f38be",
   "metadata": {},
   "outputs": [
    {
     "name": "stdout",
     "output_type": "stream",
     "text": [
      "[0.12 0.27]\n"
     ]
    }
   ],
   "source": [
    "error_rate = 0.19\n",
    "n_total = 100\n",
    "\n",
    "# Parametric bootstrap\n",
    "n_bootstrap = 10000\n",
    "bootstrap_samples = np.random.binomial(n=1, p=error_rate, size=(n_bootstrap, n_total))\n",
    "sim_mean = np.mean(bootstrap_samples , axis=1)\n",
    "\n",
    "# From simulated means we can find the 0.025 and 0.975 fractiles:\n",
    "CI = np.percentile(sim_mean, [2.5, 97.5], method=\"averaged_inverted_cdf\")\n",
    "print(CI)"
   ]
  },
  {
   "cell_type": "markdown",
   "id": "a2043551",
   "metadata": {},
   "source": [
    "# Bootstrap CI for overall error rate (biased prompts)"
   ]
  },
  {
   "cell_type": "code",
   "execution_count": 8,
   "id": "fe8b5102",
   "metadata": {},
   "outputs": [
    {
     "name": "stdout",
     "output_type": "stream",
     "text": [
      "[0.44 0.64]\n"
     ]
    }
   ],
   "source": [
    "error_rate = 0.54\n",
    "n_total = 100\n",
    "\n",
    "# Parametric bootstrap\n",
    "n_bootstrap = 10000\n",
    "bootstrap_samples = np.random.binomial(n=1, p=error_rate, size=(n_bootstrap, n_total))\n",
    "sim_mean = np.mean(bootstrap_samples , axis=1)\n",
    "\n",
    "# From simulated means we can find the 0.025 and 0.975 fractiles:\n",
    "CI = np.percentile(sim_mean, [2.5, 97.5], method=\"averaged_inverted_cdf\")\n",
    "print(CI)"
   ]
  }
 ],
 "metadata": {
  "kernelspec": {
   "display_name": "base",
   "language": "python",
   "name": "python3"
  },
  "language_info": {
   "codemirror_mode": {
    "name": "ipython",
    "version": 3
   },
   "file_extension": ".py",
   "mimetype": "text/x-python",
   "name": "python",
   "nbconvert_exporter": "python",
   "pygments_lexer": "ipython3",
   "version": "3.11.9"
  }
 },
 "nbformat": 4,
 "nbformat_minor": 5
}
