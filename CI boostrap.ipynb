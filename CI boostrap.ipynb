{
 "cells": [
  {
   "cell_type": "markdown",
   "id": "d31b0bd4",
   "metadata": {},
   "source": [
    "# Bootstrap CI for overall error rate (neutral prompts)"
   ]
  },
  {
   "cell_type": "code",
   "execution_count": 1,
   "id": "964be0fa",
   "metadata": {},
   "outputs": [],
   "source": [
    "import numpy as np"
   ]
  },
  {
   "cell_type": "code",
   "execution_count": 7,
   "id": "873f38be",
   "metadata": {},
   "outputs": [
    {
     "name": "stdout",
     "output_type": "stream",
     "text": [
      "[0.12 0.27]\n"
     ]
    }
   ],
   "source": [
    "error_rate = 0.19\n",
    "n_total = 100\n",
    "\n",
    "# Parametric bootstrap\n",
    "n_bootstrap = 10000\n",
    "bootstrap_samples = np.random.binomial(n=1, p=error_rate, size=(n_bootstrap, n_total))\n",
    "sim_mean = np.mean(bootstrap_samples , axis=1)\n",
    "\n",
    "# From simulated means we can find the 0.025 and 0.975 fractiles:\n",
    "CI = np.percentile(sim_mean, [2.5, 97.5], method=\"averaged_inverted_cdf\")\n",
    "print(CI)"
   ]
  },
  {
   "cell_type": "markdown",
   "id": "a2043551",
   "metadata": {},
   "source": [
    "# Bootstrap CI for overall error rate (biased prompts)"
   ]
  },
  {
   "cell_type": "code",
   "execution_count": 8,
   "id": "fe8b5102",
   "metadata": {},
   "outputs": [
    {
     "name": "stdout",
     "output_type": "stream",
     "text": [
      "[0.44 0.64]\n"
     ]
    }
   ],
   "source": [
    "error_rate = 0.54\n",
    "n_total = 100\n",
    "\n",
    "# Parametric bootstrap\n",
    "n_bootstrap = 10000\n",
    "bootstrap_samples = np.random.binomial(n=1, p=error_rate, size=(n_bootstrap, n_total))\n",
    "sim_mean = np.mean(bootstrap_samples , axis=1)\n",
    "\n",
    "# From simulated means we can find the 0.025 and 0.975 fractiles:\n",
    "CI = np.percentile(sim_mean, [2.5, 97.5], method=\"averaged_inverted_cdf\")\n",
    "print(CI)"
   ]
  }
 ],
 "metadata": {
  "kernelspec": {
   "display_name": "base",
   "language": "python",
   "name": "python3"
  },
  "language_info": {
   "codemirror_mode": {
    "name": "ipython",
    "version": 3
   },
   "file_extension": ".py",
   "mimetype": "text/x-python",
   "name": "python",
   "nbconvert_exporter": "python",
   "pygments_lexer": "ipython3",
   "version": "3.11.9"
  }
 },
 "nbformat": 4,
 "nbformat_minor": 5
}
